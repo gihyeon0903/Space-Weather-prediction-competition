{
 "cells": [
  {
   "cell_type": "code",
   "execution_count": 1,
   "id": "ac316d61",
   "metadata": {},
   "outputs": [],
   "source": [
    "import pandas as pd\n",
    "import numpy as np\n",
    "import os"
   ]
  },
  {
   "cell_type": "code",
   "execution_count": 3,
   "id": "52a77ce9",
   "metadata": {},
   "outputs": [],
   "source": [
    "# dir = 'data/training_data2/Ground_Geomagnetic_Data_Korea/'\n",
    "\n",
    "# ADS_df = make_csv2df(dir, True)"
   ]
  },
  {
   "cell_type": "code",
   "execution_count": 6,
   "id": "87ea7266",
   "metadata": {},
   "outputs": [],
   "source": [
    "dir = ['data/training_data2/Ground_Geomagnetic_Data_Korea/Gangneung/', \n",
    "       'data/training_data2/Ground_Geomagnetic_Data_Korea/Icheon/', \n",
    "       'data/training_data2/Ground_Geomagnetic_Data_Korea/Jeju/']\n",
    "\n",
    "GGG_df = make_csv2df(dir[0], False)\n",
    "GGI_df = make_csv2df(dir[1], False)\n",
    "GGJ_df = make_csv2df(dir[2], False)"
   ]
  },
  {
   "cell_type": "code",
   "execution_count": 13,
   "id": "3718086b",
   "metadata": {},
   "outputs": [
    {
     "name": "stdout",
     "output_type": "stream",
     "text": [
      "0 / 129600\n",
      "0 / 129600\n",
      "0 / 129600\n"
     ]
    }
   ],
   "source": [
    "print(np.isnan(GGG_df['X'].values).sum(),'/',len(GGG_df['X'].values))\n",
    "print(np.isnan(GGG_df['Y'].values).sum(),'/',len(GGG_df['Y'].values))\n",
    "print(np.isnan(GGG_df['Z'].values).sum(),'/',len(GGG_df['Z'].values))"
   ]
  },
  {
   "cell_type": "code",
   "execution_count": 14,
   "id": "17748828",
   "metadata": {},
   "outputs": [
    {
     "name": "stdout",
     "output_type": "stream",
     "text": [
      "0 / 129600\n",
      "0 / 129600\n",
      "0 / 129600\n"
     ]
    }
   ],
   "source": [
    "print(np.isnan(GGI_df['X'].values).sum(),'/',len(GGI_df['X'].values))\n",
    "print(np.isnan(GGI_df['Y'].values).sum(),'/',len(GGI_df['Y'].values))\n",
    "print(np.isnan(GGI_df['Z'].values).sum(),'/',len(GGI_df['Z'].values))"
   ]
  },
  {
   "cell_type": "code",
   "execution_count": 15,
   "id": "15a9b0c0",
   "metadata": {},
   "outputs": [
    {
     "name": "stdout",
     "output_type": "stream",
     "text": [
      "0 / 129600\n",
      "0 / 129600\n",
      "0 / 129600\n"
     ]
    }
   ],
   "source": [
    "print(np.isnan(GGJ_df['X'].values).sum(),'/',len(GGJ_df['X'].values))\n",
    "print(np.isnan(GGJ_df['Y'].values).sum(),'/',len(GGJ_df['Y'].values))\n",
    "print(np.isnan(GGJ_df['Z'].values).sum(),'/',len(GGJ_df['Z'].values))"
   ]
  },
  {
   "cell_type": "code",
   "execution_count": 10,
   "id": "1dbacbfe",
   "metadata": {},
   "outputs": [],
   "source": [
    "GGG_df[['X','Y','Z']] = GGG_df[['X','Y','Z']].interpolate(method=\"linear\")\n",
    "GGI_df[['X','Y','Z']] = GGI_df[['X','Y','Z']].interpolate(method=\"linear\")\n",
    "GGJ_df[['X','Y','Z']] = GGJ_df[['X','Y','Z']].interpolate(method=\"linear\")"
   ]
  },
  {
   "cell_type": "code",
   "execution_count": 11,
   "id": "7fed3062",
   "metadata": {},
   "outputs": [],
   "source": [
    "GGG_df.to_csv(\"./Quiz/GGG_df_interpolation.csv\", mode='w')\n",
    "GGI_df.to_csv(\"./Quiz/GGI_df_interpolation.csv\", mode='w')\n",
    "GGJ_df.to_csv(\"./Quiz/GGJ_df_interpolation.csv\", mode='w')"
   ]
  },
  {
   "cell_type": "code",
   "execution_count": 12,
   "id": "ba62bd39",
   "metadata": {},
   "outputs": [
    {
     "ename": "NameError",
     "evalue": "name 'ADS_df' is not defined",
     "output_type": "error",
     "traceback": [
      "\u001b[0;31m---------------------------------------------------------------------------\u001b[0m",
      "\u001b[0;31mNameError\u001b[0m                                 Traceback (most recent call last)",
      "Input \u001b[0;32mIn [12]\u001b[0m, in \u001b[0;36m<cell line: 1>\u001b[0;34m()\u001b[0m\n\u001b[0;32m----> 1\u001b[0m \u001b[43mADS_df\u001b[49m\u001b[38;5;241m.\u001b[39mto_csv(\u001b[38;5;124m\"\u001b[39m\u001b[38;5;124m./Quiz/ADS_df_no_interpolation.csv\u001b[39m\u001b[38;5;124m\"\u001b[39m, mode\u001b[38;5;241m=\u001b[39m\u001b[38;5;124m'\u001b[39m\u001b[38;5;124mw\u001b[39m\u001b[38;5;124m'\u001b[39m)\n",
      "\u001b[0;31mNameError\u001b[0m: name 'ADS_df' is not defined"
     ]
    }
   ],
   "source": [
    "# ADS_df.to_csv(\"./Quiz/ADS_df_no_interpolation.csv\", mode='w')"
   ]
  },
  {
   "cell_type": "code",
   "execution_count": 5,
   "id": "b887d5ae",
   "metadata": {},
   "outputs": [],
   "source": [
    "def make_csv2df(dir, text):\n",
    "    \n",
    "    if text:\n",
    "        file_list = os.listdir(dir)[1:]\n",
    "    else:\n",
    "        file_list = os.listdir(dir)\n",
    "\n",
    "    data = {}\n",
    "\n",
    "    for i, file in enumerate(file_list):\n",
    "        if file[-3:] == \"csv\":\n",
    "            data[i] = pd.read_csv(dir+file)\n",
    "        \n",
    "    df = pd.concat(data, ignore_index=True)\n",
    "    \n",
    "    return df"
   ]
  },
  {
   "cell_type": "code",
   "execution_count": null,
   "id": "be485a10",
   "metadata": {},
   "outputs": [],
   "source": []
  }
 ],
 "metadata": {
  "kernelspec": {
   "display_name": "Python 3 (ipykernel)",
   "language": "python",
   "name": "python3"
  },
  "language_info": {
   "codemirror_mode": {
    "name": "ipython",
    "version": 3
   },
   "file_extension": ".py",
   "mimetype": "text/x-python",
   "name": "python",
   "nbconvert_exporter": "python",
   "pygments_lexer": "ipython3",
   "version": "3.9.12"
  }
 },
 "nbformat": 4,
 "nbformat_minor": 5
}
