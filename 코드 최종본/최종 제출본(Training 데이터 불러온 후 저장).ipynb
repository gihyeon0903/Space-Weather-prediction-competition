{
 "cells": [
  {
   "cell_type": "markdown",
   "id": "73b516a6",
   "metadata": {},
   "source": [
    "### Training 데이터 zip 풀기"
   ]
  },
  {
   "cell_type": "code",
   "execution_count": 1,
   "id": "033b5b0e",
   "metadata": {},
   "outputs": [],
   "source": [
    "# !unzip -q \"./data/2nd_Quiz.zip\" -d \"./data/training_data2\""
   ]
  },
  {
   "cell_type": "code",
   "execution_count": 2,
   "id": "115a6b7d",
   "metadata": {},
   "outputs": [],
   "source": [
    "def make_csv2df(dir, text):\n",
    "    \n",
    "    if text:\n",
    "        file_list = os.listdir(dir)[1:]\n",
    "    else:\n",
    "        file_list = os.listdir(dir)\n",
    "\n",
    "    data = {}\n",
    "\n",
    "    for i, file in enumerate(file_list):\n",
    "        if file[-3:] == \"csv\":\n",
    "            data[i] = pd.read_csv(dir+file)\n",
    "        \n",
    "    df = pd.concat(data, ignore_index=True)\n",
    "    \n",
    "    return df\n",
    "\n",
    "def make_txt2df(dir):\n",
    "    \n",
    "    file_dir = os.listdir(dir)\n",
    "\n",
    "    file_list = []\n",
    "\n",
    "    for file_dir_ in file_dir:\n",
    "        if file_dir_[-3:] != \"txt\":\n",
    "            for tmp in os.listdir(dir + file_dir_):\n",
    "                    file_list += [dir + file_dir_ + '/' + tmp]\n",
    "    \n",
    "    df = pd.DataFrame(columns = ['datatime', 'Geo_Dist'])\n",
    "    datatime = ['00:00:00', '03:00:00', '06:00:00', '09:00:00',\n",
    "               '12:00:00', '15:00:00', '18:00:00', '21:00:00']\n",
    "    index = 0\n",
    "\n",
    "    for file in file_list:\n",
    "        f = open(file, 'r')\n",
    "        data_info = file.split('/')[4]\n",
    "        print(file)\n",
    "        \n",
    "        lines = f.readlines()\n",
    "        for i, line in enumerate(lines):\n",
    "            line = line.strip()\n",
    "            tmp1 = str(data_info[0:4]) + '-' + str(data_info[4:6]) + '-' + str(data_info[6:8]) + ' ' + datatime[i]\n",
    "            tmp2 = int(line)\n",
    "\n",
    "            df_insert = pd.DataFrame({'datatime' : tmp1, 'Geo_Dist' : tmp2}, index=[index])\n",
    "            df = pd.concat([df, df_insert], axis=0)\n",
    "            index +=1\n",
    "\n",
    "        f.close()\n",
    "        \n",
    "    return df\n",
    "\n",
    "def df_interpolation(df):\n",
    "    df = df.fillna(method='bfill')\n",
    "    df = df.fillna(method='pad')\n",
    "    \n",
    "    return df"
   ]
  },
  {
   "cell_type": "markdown",
   "id": "3b3c855b",
   "metadata": {},
   "source": [
    "### 위성 및 관측소 데이터  csv -> dataframe 변환"
   ]
  },
  {
   "cell_type": "code",
   "execution_count": 3,
   "id": "889c88fb",
   "metadata": {},
   "outputs": [],
   "source": [
    "dir = 'data/training_data/ACE_DSCOVR_Satellite/'\n",
    "\n",
    "ADS_df = make_csv2df(dir, True)"
   ]
  },
  {
   "cell_type": "code",
   "execution_count": 4,
   "id": "f03d457e",
   "metadata": {},
   "outputs": [],
   "source": [
    "dir = ['data/training_data/Ground_Geomagnetic_Data_Korea/Gangneung/', \n",
    "       'data/training_data/Ground_Geomagnetic_Data_Korea/Icheon/', \n",
    "       'data/training_data/Ground_Geomagnetic_Data_Korea/Jeju/']\n",
    "\n",
    "GGG_df = make_csv2df(dir[0], False)\n",
    "GGI_df = make_csv2df(dir[1], False)\n",
    "GGJ_df = make_csv2df(dir[2], False)"
   ]
  },
  {
   "cell_type": "markdown",
   "id": "63bd9d95",
   "metadata": {},
   "source": [
    "### Dst 지수 데이터  text -> dataframe 변환 및 동기화"
   ]
  },
  {
   "cell_type": "code",
   "execution_count": 6,
   "id": "51de577b",
   "metadata": {},
   "outputs": [],
   "source": [
    "dir = 'data/training_data/Geomagnetic_Disturbance_Index/'\n",
    "\n",
    "GD_df = make_txt2df(dir)\n",
    "\n",
    "# 결측치가 없으므로 보간법x"
   ]
  },
  {
   "cell_type": "code",
   "execution_count": 7,
   "id": "81b48300",
   "metadata": {},
   "outputs": [],
   "source": [
    "ADS_df.to_csv(\"./custom_data/ADS_df_no_interpolation.csv\", mode='w')\n",
    "\n",
    "GGG_df.to_csv(\"./custom_data/GGG_df_no_interpolation.csv\", mode='w')\n",
    "GGI_df.to_csv(\"./custom_data/GGI_df_no_interpolation.csv\", mode='w')\n",
    "GGJ_df.to_csv(\"./custom_data/GGJ_df_no_interpolation.csv\", mode='w')\n",
    "\n",
    "GD_df.to_csv(\"./custom_data/GD_df_no_interpolation.csv\", mode='w')"
   ]
  }
 ],
 "metadata": {
  "kernelspec": {
   "display_name": "Python 3 (ipykernel)",
   "language": "python",
   "name": "python3"
  },
  "language_info": {
   "codemirror_mode": {
    "name": "ipython",
    "version": 3
   },
   "file_extension": ".py",
   "mimetype": "text/x-python",
   "name": "python",
   "nbconvert_exporter": "python",
   "pygments_lexer": "ipython3",
   "version": "3.9.12"
  }
 },
 "nbformat": 4,
 "nbformat_minor": 5
}
